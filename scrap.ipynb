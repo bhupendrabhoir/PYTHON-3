{
 "cells": [
  {
   "cell_type": "markdown",
   "metadata": {},
   "source": [
    "### Case Study - Scrapping from Flipcart site \"I phone\" product and maintain it in file\n",
    "#### 1) Name\n",
    "#### 2) Price\n",
    "#### 3) Rating"
   ]
  },
  {
   "cell_type": "code",
   "execution_count": 64,
   "metadata": {},
   "outputs": [],
   "source": [
    "from bs4 import BeautifulSoup as soup\n",
    "from urllib.request import urlopen as uReq"
   ]
  },
  {
   "cell_type": "code",
   "execution_count": 65,
   "metadata": {},
   "outputs": [],
   "source": [
    "my_url=\"https://www.flipkart.com/search?q=iphone&otracker=search&otracker1=search&marketplace=FLIPKART&as-show=off&as=off\""
   ]
  },
  {
   "cell_type": "code",
   "execution_count": 66,
   "metadata": {},
   "outputs": [],
   "source": [
    "uClient = uReq(my_url)\n",
    "page_html = uClient.read()"
   ]
  },
  {
   "cell_type": "code",
   "execution_count": 67,
   "metadata": {},
   "outputs": [],
   "source": [
    "uClient.close()"
   ]
  },
  {
   "cell_type": "code",
   "execution_count": 68,
   "metadata": {},
   "outputs": [],
   "source": [
    "page_soup = soup(page_html,\"html.parser\")"
   ]
  },
  {
   "cell_type": "code",
   "execution_count": 69,
   "metadata": {},
   "outputs": [],
   "source": [
    "containers = page_soup.findAll(\"div\",{\"class\":\"_3liAhj\"})"
   ]
  },
  {
   "cell_type": "code",
   "execution_count": 70,
   "metadata": {},
   "outputs": [],
   "source": [
    "#containers"
   ]
  },
  {
   "cell_type": "code",
   "execution_count": 71,
   "metadata": {},
   "outputs": [
    {
     "data": {
      "text/plain": [
       "40"
      ]
     },
     "execution_count": 71,
     "metadata": {},
     "output_type": "execute_result"
    }
   ],
   "source": [
    "len(containers)"
   ]
  },
  {
   "cell_type": "code",
   "execution_count": 72,
   "metadata": {},
   "outputs": [
    {
     "data": {
      "text/plain": [
       "'<div class=\"_3liAhj\">\\n <a class=\"Zhf2z-\" href=\"/apple-iphone-7-black-32-gb/p/itmen6daftcqwzeg?pid=MOBEMK62PN2HU7EE&amp;lid=LSTMOBEMK62PN2HU7EEINTGNU&amp;marketplace=FLIPKART&amp;srno=s_1_1&amp;otracker=search&amp;otracker1=search&amp;fm=organic&amp;iid=9b9bd41d-8ac5-42d0-86fc-4ce271ec6bc9.MOBEMK62PN2HU7EE.SEARCH&amp;ssid=cudd3i8we80000001586426157215&amp;qH=0b3f45b266a97d70\" rel=\"noopener noreferrer\" target=\"_blank\">\\n  <div style=\"-webkit-filter:grayscale(1);-moz-filter:grayscale(1);-o-filter:grayscale(1);-ms-filter:grayscale(1);filter:grayscale(1);opacity:0.6\">\\n   <div>\\n    <div class=\"_3BTv9X\" style=\"height:280px;width:200px\">\\n     <img alt=\"Apple iPhone 7 (Black, 32 GB)\" class=\"_1Nyybr\" src=\"//img1a.flixcart.com/www/linchpin/fk-cp-zion/img/placeholder_9951d0.svg\"/>\\n    </div>\\n   </div>\\n  </div>\\n  <div class=\"_3aV9Tq\">\\n   <span class=\"_1GJ2ZM\">\\n    Not Deliverable\\n   </span>\\n  </div>\\n  <div class=\"_3gDSOa _3iGnbq\">\\n   <div class=\"DsQ2eg\">\\n    <svg class=\"_2oLiqr\" height=\"16\" viewbox=\"0 0 20 16\" width=\"16\" xmlns=\"http://www.w3.org/2000/svg\">\\n     <path class=\"_35Y7Yo\" d=\"M8.695 16.682C4.06 12.382 1 9.536 1 6.065 1 3.219 3.178 1 5.95 1c1.566 0 3.069.746 4.05 1.915C10.981 1.745 12.484 1 14.05 1 16.822 1 19 3.22 19 6.065c0 3.471-3.06 6.316-7.695 10.617L10 17.897l-1.305-1.215z\" fill=\"#2874F0\" fill-rule=\"evenodd\" opacity=\".9\" stroke=\"#FFF\">\\n     </path>\\n    </svg>\\n   </div>\\n  </div>\\n </a>\\n <a class=\"_2cLu-l\" href=\"/apple-iphone-7-black-32-gb/p/itmen6daftcqwzeg?pid=MOBEMK62PN2HU7EE&amp;lid=LSTMOBEMK62PN2HU7EEINTGNU&amp;marketplace=FLIPKART&amp;srno=s_1_1&amp;otracker=search&amp;otracker1=search&amp;fm=organic&amp;iid=9b9bd41d-8ac5-42d0-86fc-4ce271ec6bc9.MOBEMK62PN2HU7EE.SEARCH&amp;ssid=cudd3i8we80000001586426157215&amp;qH=0b3f45b266a97d70\" rel=\"noopener noreferrer\" target=\"_blank\" title=\"Apple iPhone 7 (Black, 32 GB)\">\\n  Apple iPhone 7 (Black, 32 GB)\\n </a>\\n <div class=\"niH0FQ _36Fcw_\">\\n  <span class=\"_2_KrJI\" id=\"productRating_LSTMOBEMK62PN2HU7EEINTGNU_MOBEMK62PN2HU7EE_\">\\n   <div class=\"hGSR34\">\\n    4.5\\n    <img class=\"_2lQ_WZ\" src=\"data:image/svg+xml;base64,PHN2ZyB4bWxucz0iaHR0cDovL3d3dy53My5vcmcvMjAwMC9zdmciIHdpZHRoPSIxMyIgaGVpZ2h0PSIxMiI+PHBhdGggZmlsbD0iI0ZGRiIgZD0iTTYuNSA5LjQzOWwtMy42NzQgMi4yMy45NC00LjI2LTMuMjEtMi44ODMgNC4yNTQtLjQwNEw2LjUuMTEybDEuNjkgNC4wMSA0LjI1NC40MDQtMy4yMSAyLjg4Mi45NCA0LjI2eiIvPjwvc3ZnPg==\"/>\\n   </div>\\n  </span>\\n  <span class=\"_38sUEc\">\\n   (86,100)\\n  </span>\\n </div>\\n <div class=\"_3LWrw9\">\\n  <img height=\"21\" src=\"//img1a.flixcart.com/www/linchpin/fk-cp-zion/img/fa_8b4b59.png\"/>\\n </div>\\n <a class=\"_1Vfi6u\" href=\"/apple-iphone-7-black-32-gb/p/itmen6daftcqwzeg?pid=MOBEMK62PN2HU7EE&amp;lid=LSTMOBEMK62PN2HU7EEINTGNU&amp;marketplace=FLIPKART&amp;srno=s_1_1&amp;otracker=search&amp;otracker1=search&amp;fm=organic&amp;iid=9b9bd41d-8ac5-42d0-86fc-4ce271ec6bc9.MOBEMK62PN2HU7EE.SEARCH&amp;ssid=cudd3i8we80000001586426157215&amp;qH=0b3f45b266a97d70\" rel=\"noopener noreferrer\" target=\"_blank\">\\n  <div class=\"_1uv9Cb\">\\n   <div class=\"_1vC4OE\">\\n    ₹29,499\\n   </div>\\n   <div class=\"_3auQ3N\">\\n    ₹\\n    <!-- -->\\n    29,900\\n   </div>\\n   <div class=\"VGWI6T\">\\n    <span>\\n     1% off\\n    </span>\\n   </div>\\n  </div>\\n </a>\\n <div class=\"_2nE8_R\">\\n  <div class=\"_3_G5Wj\" style=\"color:#000000;font-size:14px;font-family:inherit;font-weight:normal\">\\n   Upto\\n  </div>\\n  <div class=\"_3_G5Wj\" style=\"color:#000000;font-size:14px;font-family:inherit;font-weight:bold\">\\n   ₹11,850\\n  </div>\\n  <div class=\"_3_G5Wj\" style=\"color:#000000;font-size:14px;font-family:inherit;font-weight:normal\">\\n   Off on Exchange\\n  </div>\\n </div>\\n <div class=\"_3ighFh\">\\n  <div class=\"_34CFgI\">\\n   <div class=\"_1O_CiZ\">\\n    <span class=\"_1iHA1p\">\\n     <div class=\"_2kFyHg\">\\n      <label>\\n       <input class=\"_3uUUD5\" readonly=\"\" type=\"checkbox\"/>\\n       <div class=\"_1p7h2j\">\\n       </div>\\n      </label>\\n     </div>\\n    </span>\\n    <label class=\"_10TB-Q\">\\n     <span>\\n      Add to Compare\\n     </span>\\n    </label>\\n   </div>\\n  </div>\\n </div>\\n</div>'"
      ]
     },
     "execution_count": 72,
     "metadata": {},
     "output_type": "execute_result"
    }
   ],
   "source": [
    "soup.prettify(containers[0])"
   ]
  },
  {
   "cell_type": "code",
   "execution_count": 73,
   "metadata": {},
   "outputs": [],
   "source": [
    "c = containers[0]"
   ]
  },
  {
   "cell_type": "code",
   "execution_count": 74,
   "metadata": {},
   "outputs": [
    {
     "data": {
      "text/plain": [
       "'Apple iPhone 7 (Black, 32 GB)'"
      ]
     },
     "execution_count": 74,
     "metadata": {},
     "output_type": "execute_result"
    }
   ],
   "source": [
    "c.div.img[\"alt\"]"
   ]
  },
  {
   "cell_type": "code",
   "execution_count": 75,
   "metadata": {},
   "outputs": [],
   "source": [
    "name = c.div.img[\"alt\"]"
   ]
  },
  {
   "cell_type": "code",
   "execution_count": 76,
   "metadata": {},
   "outputs": [
    {
     "data": {
      "text/plain": [
       "[<div class=\"_1vC4OE\">₹29,499</div>]"
      ]
     },
     "execution_count": 76,
     "metadata": {},
     "output_type": "execute_result"
    }
   ],
   "source": [
    "c.findAll(\"div\",{\"class\":\"_1vC4OE\"})"
   ]
  },
  {
   "cell_type": "code",
   "execution_count": 77,
   "metadata": {},
   "outputs": [],
   "source": [
    "price = c.findAll(\"div\",{\"class\":\"_1vC4OE\"})"
   ]
  },
  {
   "cell_type": "code",
   "execution_count": 78,
   "metadata": {},
   "outputs": [
    {
     "data": {
      "text/plain": [
       "'₹29,499'"
      ]
     },
     "execution_count": 78,
     "metadata": {},
     "output_type": "execute_result"
    }
   ],
   "source": [
    "price[0].text"
   ]
  },
  {
   "cell_type": "code",
   "execution_count": 79,
   "metadata": {},
   "outputs": [],
   "source": [
    "price = price[0].text"
   ]
  },
  {
   "cell_type": "code",
   "execution_count": 80,
   "metadata": {},
   "outputs": [
    {
     "name": "stdout",
     "output_type": "stream",
     "text": [
      "Apple iPhone 7 (Black, 32 GB) ₹29,499\n"
     ]
    }
   ],
   "source": [
    "print(name,price)"
   ]
  },
  {
   "cell_type": "code",
   "execution_count": 81,
   "metadata": {},
   "outputs": [
    {
     "data": {
      "text/plain": [
       "[<div class=\"hGSR34\">4.5<img class=\"_2lQ_WZ\" src=\"data:image/svg+xml;base64,PHN2ZyB4bWxucz0iaHR0cDovL3d3dy53My5vcmcvMjAwMC9zdmciIHdpZHRoPSIxMyIgaGVpZ2h0PSIxMiI+PHBhdGggZmlsbD0iI0ZGRiIgZD0iTTYuNSA5LjQzOWwtMy42NzQgMi4yMy45NC00LjI2LTMuMjEtMi44ODMgNC4yNTQtLjQwNEw2LjUuMTEybDEuNjkgNC4wMSA0LjI1NC40MDQtMy4yMSAyLjg4Mi45NCA0LjI2eiIvPjwvc3ZnPg==\"/></div>]"
      ]
     },
     "execution_count": 81,
     "metadata": {},
     "output_type": "execute_result"
    }
   ],
   "source": [
    "c.findAll(\"div\",{\"class\":\"hGSR34\"})"
   ]
  },
  {
   "cell_type": "code",
   "execution_count": 82,
   "metadata": {},
   "outputs": [],
   "source": [
    "rating = c.findAll(\"div\",{\"class\":\"hGSR34\"})"
   ]
  },
  {
   "cell_type": "code",
   "execution_count": 83,
   "metadata": {},
   "outputs": [
    {
     "data": {
      "text/plain": [
       "'4.5'"
      ]
     },
     "execution_count": 83,
     "metadata": {},
     "output_type": "execute_result"
    }
   ],
   "source": [
    "rating[0].text"
   ]
  },
  {
   "cell_type": "code",
   "execution_count": 84,
   "metadata": {},
   "outputs": [],
   "source": [
    "rating = rating[0].text"
   ]
  },
  {
   "cell_type": "code",
   "execution_count": 85,
   "metadata": {},
   "outputs": [
    {
     "name": "stdout",
     "output_type": "stream",
     "text": [
      "Apple iPhone 7 (Black, 32 GB) ₹29,499 4.5\n"
     ]
    }
   ],
   "source": [
    "print(name,price,rating)"
   ]
  },
  {
   "cell_type": "code",
   "execution_count": 102,
   "metadata": {},
   "outputs": [
    {
     "name": "stdout",
     "output_type": "stream",
     "text": [
      "product_name:Apple iPhone 7 (Black, 32 GB)\n",
      "product_price:₹29,499\n",
      "product_rating:4.5\n",
      "product_name:Apple iPhone XS (Space Grey, 64 GB)\n",
      "product_price:₹62,999\n",
      "product_rating:4.7\n",
      "product_name:Apple iPhone XS (Gold, 64 GB)\n",
      "product_price:₹62,999\n",
      "product_rating:4.7\n",
      "product_name:Apple iPhone 7 Plus (Gold, 32 GB)\n",
      "product_price:₹36,999\n",
      "product_rating:4.5\n",
      "product_name:Apple iPhone XS (Silver, 64 GB)\n",
      "product_price:₹62,999\n",
      "product_rating:4.7\n",
      "product_name:Apple iPhone 7 Plus (Rose Gold, 32 GB)\n",
      "product_price:₹36,999\n",
      "product_rating:4.5\n",
      "product_name:Apple iPhone 7 Plus (Black, 32 GB)\n",
      "product_price:₹36,999\n",
      "product_rating:4.5\n",
      "product_name:Apple iPhone 7 Plus (Silver, 32 GB)\n",
      "product_price:₹36,999\n",
      "product_rating:4.5\n",
      "product_name:Apple iPhone 11 (Black, 128 GB)\n",
      "product_price:₹69,900\n",
      "product_rating:4.7\n",
      "product_name:Apple iPhone 8 (Silver, 64 GB)\n",
      "product_price:₹38,999\n",
      "product_rating:4.5\n",
      "product_name:Apple iPhone 11 (Purple, 128 GB)\n",
      "product_price:₹69,900\n",
      "product_rating:4.7\n",
      "product_name:Apple iPhone 11 (Green, 128 GB)\n",
      "product_price:₹69,900\n",
      "product_rating:4.7\n",
      "product_name:Dainty Tempered Glass Guard for Apple iPhone 7\n",
      "product_price:₹162\n",
      "product_rating:3.9\n",
      "product_name:Apple iPhone 11 (White, 64 GB)\n",
      "product_price:₹64,900\n",
      "product_rating:4.7\n",
      "product_name:Apple iPhone 11 (White, 128 GB)\n",
      "product_price:₹69,900\n",
      "product_rating:4.7\n",
      "product_name:Apple iPhone 11 (Black, 64 GB)\n",
      "product_price:₹64,900\n",
      "product_rating:4.7\n",
      "product_name:Apple iPhone 11 (Purple, 64 GB)\n",
      "product_price:₹64,900\n",
      "product_rating:4.7\n",
      "product_name:Apple iPhone 11 (Green, 64 GB)\n",
      "product_price:₹64,900\n",
      "product_rating:4.7\n",
      "product_name:Apple iPhone XR (White, 64 GB)\n",
      "product_price:₹49,900\n",
      "product_rating:4.6\n",
      "product_name:Apple iPhone XR (Black, 128 GB)\n",
      "product_price:₹54,900\n",
      "product_rating:4.6\n",
      "product_name:Apple iPhone XR (Blue, 64 GB)\n",
      "product_price:₹49,900\n",
      "product_rating:4.6\n",
      "product_name:Apple iPhone 8 (Space Grey, 64 GB)\n",
      "product_price:₹38,999\n",
      "product_rating:4.5\n",
      "product_name:Apple iPhone 11 (Red, 64 GB)\n",
      "product_price:₹64,900\n",
      "product_rating:4.7\n",
      "product_name:Apple iPhone 11 (Red, 128 GB)\n",
      "product_price:₹69,900\n",
      "product_rating:4.7\n",
      "product_name:Apple iPhone XR (Blue, 128 GB)\n",
      "product_price:₹54,900\n",
      "product_rating:4.6\n",
      "product_name:Dainty Tempered Glass Guard for Apple iPhone 7 Plus\n",
      "product_price:₹162\n",
      "product_rating:3.8\n",
      "product_name:Apple iPhone 6s (Space Grey, 32 GB)\n",
      "product_price:₹25,299\n",
      "product_rating:4.5\n",
      "product_name:Apple iPhone 11 (Yellow, 128 GB)\n",
      "product_price:₹69,900\n",
      "product_rating:4.7\n",
      "product_name:Apple iPhone XR ((PRODUCT)RED, 64 GB)\n",
      "product_price:₹49,900\n",
      "product_rating:4.6\n",
      "product_name:Apple iPhone 11 Pro Max (Gold, 64 GB)\n",
      "product_price:₹1,09,900\n",
      "product_rating:4.7\n",
      "product_name:Apple iPhone X (Silver, 64 GB)\n",
      "product_price:₹69,999\n",
      "product_rating:4.6\n",
      "product_name:Apple iPhone 11 Pro (Midnight Green, 512 GB)\n",
      "product_price:₹1,31,900\n",
      "product_rating:4.7\n",
      "product_name:Apple iPhone XR (Black, 64 GB)\n",
      "product_price:₹49,900\n",
      "product_rating:4.6\n",
      "product_name:Apple iPhone 11 Pro (Space Grey, 512 GB)\n",
      "product_price:₹1,31,900\n",
      "product_rating:4.7\n",
      "product_name:Apple iPhone XR (Coral, 128 GB)\n",
      "product_price:₹54,900\n",
      "product_rating:4.6\n",
      "product_name:Apple iPhone 11 Pro Max (Silver, 512 GB)\n",
      "product_price:₹1,41,900\n",
      "product_rating:4.7\n",
      "product_name:Apple iPhone XS Max (Space Grey, 512 GB)\n",
      "product_price:₹1,09,900\n",
      "product_rating:4.6\n",
      "product_name:Apple iPhone 8 (Gold, 64 GB)\n",
      "product_price:₹38,999\n",
      "product_rating:4.5\n",
      "product_name:Dainty Tempered Glass Guard for Apple iPhone 7 Plus\n",
      "product_price:₹212\n",
      "product_rating:3.9\n",
      "product_name:Apple iPhone 7 (Gold, 32 GB)\n",
      "product_price:₹36,999\n",
      "product_rating:4.5\n"
     ]
    }
   ],
   "source": [
    "for c in containers:\n",
    "    name = c.div.img[\"alt\"]\n",
    "    price = c.findAll(\"div\",{\"class\":\"_1vC4OE\"})\n",
    "    price = price[0].text\n",
    "    rating = c.findAll(\"div\",{\"class\":\"hGSR34\"})\n",
    "    rating = rating[0].text\n",
    "    print(\"product_name:\"+name)\n",
    "    print(\"product_price:\"+price)\n",
    "    print(\"product_rating:\"+rating)"
   ]
  },
  {
   "cell_type": "markdown",
   "metadata": {},
   "source": [
    " # String Parsing"
   ]
  },
  {
   "cell_type": "code",
   "execution_count": 87,
   "metadata": {},
   "outputs": [],
   "source": [
    "final_name = name.replace(\",\",\"|\")+\",\""
   ]
  },
  {
   "cell_type": "code",
   "execution_count": 88,
   "metadata": {},
   "outputs": [
    {
     "data": {
      "text/plain": [
       "'Apple iPhone 7 (Black| 32 GB),'"
      ]
     },
     "execution_count": 88,
     "metadata": {},
     "output_type": "execute_result"
    }
   ],
   "source": [
    "final_name"
   ]
  },
  {
   "cell_type": "code",
   "execution_count": 89,
   "metadata": {},
   "outputs": [],
   "source": [
    "trim_price = ''.join(price.split(','))\n",
    "rm_rupee = trim_price.split(\"₹\")\n",
    "add_rs_price = \"Rs.\"+rm_rupee[1]\n",
    "split_price = add_rs_price.split('E')\n",
    "final_price = split_price[0]"
   ]
  },
  {
   "cell_type": "code",
   "execution_count": 90,
   "metadata": {},
   "outputs": [
    {
     "data": {
      "text/plain": [
       "'Rs.29499'"
      ]
     },
     "execution_count": 90,
     "metadata": {},
     "output_type": "execute_result"
    }
   ],
   "source": [
    "final_price"
   ]
  },
  {
   "cell_type": "code",
   "execution_count": 91,
   "metadata": {},
   "outputs": [],
   "source": [
    "split_rating = rating.split(\" \")\n",
    "final_rating = split_rating[0]"
   ]
  },
  {
   "cell_type": "code",
   "execution_count": 92,
   "metadata": {},
   "outputs": [
    {
     "data": {
      "text/plain": [
       "'4.5'"
      ]
     },
     "execution_count": 92,
     "metadata": {},
     "output_type": "execute_result"
    }
   ],
   "source": [
    "final_rating"
   ]
  },
  {
   "cell_type": "code",
   "execution_count": 93,
   "metadata": {},
   "outputs": [
    {
     "name": "stdout",
     "output_type": "stream",
     "text": [
      "Apple iPhone 7 (Black| 32 GB),Rs.29499,4.5\n"
     ]
    }
   ],
   "source": [
    "print(final_name+final_price+\",\"+final_rating) # now it can be save as .csv file"
   ]
  },
  {
   "cell_type": "code",
   "execution_count": 97,
   "metadata": {},
   "outputs": [],
   "source": [
    "filename = \"products.csv\"\n",
    "f = open(filename,\"w\")\n",
    "\n",
    "headers = \"Product_Name, Pricing, Rating\\n\"# \\n for new line command to write in file\n",
    "f.write(headers)\n",
    "f.close()"
   ]
  },
  {
   "cell_type": "markdown",
   "metadata": {},
   "source": [
    "# Program"
   ]
  },
  {
   "cell_type": "code",
   "execution_count": 110,
   "metadata": {},
   "outputs": [],
   "source": [
    "filename = \"products.csv\"\n",
    "f = open(filename,\"w\")\n",
    "\n",
    "headers = \"Product_Name, Pricing, Rating\\n\"# \\n for new line command to write in file\n",
    "f.write(headers)\n",
    "\n",
    "for c in containers:\n",
    "    name = c.div.img[\"alt\"]\n",
    "    price = c.findAll(\"div\",{\"class\":\"_1vC4OE\"})\n",
    "    price = price[0].text\n",
    "    rating = c.findAll(\"div\",{\"class\":\"hGSR34\"})\n",
    "    rating = rating[0].text\n",
    "    \n",
    "    final_name = name.replace(\",\",\"|\")+\",\"\n",
    "    trim_price = ''.join(price.split(','))\n",
    "    rm_rupee = trim_price.split(\"₹\")\n",
    "    add_rs_price = \"Rs.\"+rm_rupee[1]\n",
    "    split_price = add_rs_price.split('E')\n",
    "    final_price = split_price[0]\n",
    "    split_rating = rating.split(\" \")\n",
    "    final_rating = split_rating[0]\n",
    "    \n",
    "    f.write(final_name+final_price+\",\"+final_rating+\"\\n\")\n",
    "    \n",
    "f.close()"
   ]
  },
  {
   "cell_type": "code",
   "execution_count": null,
   "metadata": {},
   "outputs": [],
   "source": []
  }
 ],
 "metadata": {
  "kernelspec": {
   "display_name": "Python 3",
   "language": "python",
   "name": "python3"
  },
  "language_info": {
   "codemirror_mode": {
    "name": "ipython",
    "version": 3
   },
   "file_extension": ".py",
   "mimetype": "text/x-python",
   "name": "python",
   "nbconvert_exporter": "python",
   "pygments_lexer": "ipython3",
   "version": "3.7.4"
  }
 },
 "nbformat": 4,
 "nbformat_minor": 2
}
